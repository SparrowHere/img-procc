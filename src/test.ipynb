{
 "cells": [
  {
   "cell_type": "code",
   "execution_count": 1,
   "metadata": {},
   "outputs": [],
   "source": [
    "import numpy as np"
   ]
  },
  {
   "cell_type": "code",
   "execution_count": 2,
   "metadata": {},
   "outputs": [],
   "source": [
    "np.set_printoptions(formatter={'all': lambda x: '{:08b}'.format(x)})"
   ]
  },
  {
   "cell_type": "code",
   "execution_count": 3,
   "metadata": {},
   "outputs": [
    {
     "data": {
      "text/plain": [
       "array([[00001111, 00001111, 00001111, 00001111, 00001111, 00001111],\n",
       "       [00001111, 00001111, 00001111, 00001111, 00001111, 00001111],\n",
       "       [00001111, 00001111, 00001111, 00001111, 00001111, 00001111],\n",
       "       [00001111, 00001111, 00001111, 00001111, 00001111, 00001111],\n",
       "       [00001111, 00001111, 00001111, 00001111, 00001111, 00001111],\n",
       "       [00001111, 00001111, 00001111, 00001111, 00001111, 00001111]],\n",
       "      dtype=uint8)"
      ]
     },
     "execution_count": 3,
     "metadata": {},
     "output_type": "execute_result"
    }
   ],
   "source": [
    "np.ones((6, 6), dtype = np.uint8) * ((1 << 4) - 1)\n",
    "\n",
    "# 00000001 -> 00000100 -> 00000011\n",
    "#   Setting last TWO bits to 1, remaining to 0"
   ]
  }
 ],
 "metadata": {
  "kernelspec": {
   "display_name": "base",
   "language": "python",
   "name": "python3"
  },
  "language_info": {
   "codemirror_mode": {
    "name": "ipython",
    "version": 3
   },
   "file_extension": ".py",
   "mimetype": "text/x-python",
   "name": "python",
   "nbconvert_exporter": "python",
   "pygments_lexer": "ipython3",
   "version": "3.11.5"
  }
 },
 "nbformat": 4,
 "nbformat_minor": 2
}
