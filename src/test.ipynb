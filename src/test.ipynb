{
 "cells": [
  {
   "cell_type": "code",
   "execution_count": 1,
   "metadata": {},
   "outputs": [],
   "source": [
    "import numpy as np"
   ]
  },
  {
   "cell_type": "code",
   "execution_count": 2,
   "metadata": {},
   "outputs": [],
   "source": [
    "np.set_printoptions(formatter={'all': lambda x: '{:08b}'.format(x)})"
   ]
  },
  {
   "cell_type": "code",
   "execution_count": 3,
   "metadata": {},
   "outputs": [
    {
     "data": {
      "text/plain": [
       "array([[00001111, 00001111, 00001111, 00001111, 00001111, 00001111],\n",
       "       [00001111, 00001111, 00001111, 00001111, 00001111, 00001111],\n",
       "       [00001111, 00001111, 00001111, 00001111, 00001111, 00001111],\n",
       "       [00001111, 00001111, 00001111, 00001111, 00001111, 00001111],\n",
       "       [00001111, 00001111, 00001111, 00001111, 00001111, 00001111],\n",
       "       [00001111, 00001111, 00001111, 00001111, 00001111, 00001111]],\n",
       "      dtype=uint8)"
      ]
     },
     "execution_count": 3,
     "metadata": {},
     "output_type": "execute_result"
    }
   ],
   "source": [
    "np.ones((6, 6), dtype = np.uint8) * ((1 << 4) - 1)\n",
    "\n",
    "# 00000001 -> 00000100 -> 00000011\n",
    "#   Setting last TWO bits to 1, remaining to 0"
   ]
  },
  {
   "cell_type": "markdown",
   "metadata": {},
   "source": [
    "# Q1 of HW1"
   ]
  },
  {
   "cell_type": "code",
   "execution_count": 4,
   "metadata": {},
   "outputs": [],
   "source": [
    "import cv2\n",
    "import matplotlib.pyplot as plt\n",
    "\n",
    "plt.style.use(\"seaborn-v0_8-paper\")\n",
    "\n",
    "# Reading the image/s\n",
    "Path: str = \"/home/sparrow/cv/images\"\n",
    "img_gray = cv2.imread(Path + \"/gray9.jpg\", cv2.IMREAD_GRAYSCALE)\n",
    "img_dark = cv2.imread(Path + \"/dark9.jpg\", cv2.IMREAD_GRAYSCALE)\n",
    "\n",
    "cv2.imshow(\"Dark Image\", img_dark)\n",
    "cv2.waitKey(5000)\n",
    "cv2.destroyAllWindows()\n",
    "\n",
    "# Getting histogram of the image\n",
    "plt.hist(\n",
    "    img_dark.ravel(),\n",
    "    256,\n",
    "    [0, 256],\n",
    "    label = \"Dark Image\",\n",
    ");\n",
    "plt.title(\"Histogram of the Dark Image\");\n",
    "plt.xlabel(\"Gray Level\");\n",
    "plt.ylabel(\"Count\");\n",
    "plt.show();"
   ]
  },
  {
   "cell_type": "code",
   "execution_count": null,
   "metadata": {},
   "outputs": [],
   "source": [
    "import cv2\n",
    "import matplotlib.pyplot as plt\n",
    "from functions.imgproc import gamma_correction\n",
    "\n",
    "plt.style.use(\"seaborn-v0_8-paper\")\n",
    "\n",
    "# Reading the image/s\n",
    "Path: str = \"/home/sparrow/cv/images\"\n",
    "img_gray = cv2.imread(Path + \"/gray9.jpg\", cv2.IMREAD_GRAYSCALE)\n",
    "img_dark = cv2.imread(Path + \"/dark9.jpg\", cv2.IMREAD_GRAYSCALE)\n",
    "\n",
    "cv2.imshow(\"Dark Image\", img_dark)\n",
    "cv2.waitKey(5000)\n",
    "\n",
    "img_dark_corrected = gamma_correction(img_dark, 0.2)\n",
    "cv2.imshow(\"Gamma Corrected Image (gamma = 0.2)\", img_dark_corrected)\n",
    "cv2.waitKey(0)\n",
    "cv2.destroyAllWindows()\n",
    "\n",
    "plt.hist(\n",
    "    img_dark_corrected.ravel(),\n",
    "    256,\n",
    "    [0, 256],\n",
    "    label = \"Corrected Dark Image\",\n",
    ");\n",
    "plt.title(\"Gamma Corrected Image (Gamma = 0.2)\");\n",
    "plt.xlabel(\"Gray Level\");\n",
    "plt.ylabel(\"Count\");\n",
    "plt.show();"
   ]
  }
 ],
 "metadata": {
  "kernelspec": {
   "display_name": "base",
   "language": "python",
   "name": "python3"
  },
  "language_info": {
   "codemirror_mode": {
    "name": "ipython",
    "version": 3
   },
   "file_extension": ".py",
   "mimetype": "text/x-python",
   "name": "python",
   "nbconvert_exporter": "python",
   "pygments_lexer": "ipython3",
   "version": "3.11.5"
  }
 },
 "nbformat": 4,
 "nbformat_minor": 2
}
